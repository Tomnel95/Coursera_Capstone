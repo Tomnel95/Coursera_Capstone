{
    "cells": [
        {
            "metadata": {
                "collapsed": true
            },
            "cell_type": "markdown",
            "source": "# Capstone Project: Battle of Neighborhoods"
        },
        {
            "metadata": {},
            "cell_type": "markdown",
            "source": "Created with IBM Watson Studio by Tom Nel"
        },
        {
            "metadata": {},
            "cell_type": "markdown",
            "source": "# Suitable locations for a techno club in Brussels"
        },
        {
            "metadata": {},
            "cell_type": "markdown",
            "source": "## 1. Background and problem description"
        },
        {
            "metadata": {},
            "cell_type": "markdown",
            "source": "Although the techno scene in Brussels is not on the same level as Berlin's, the Belgian capital has an exciting nightlife and many techno clubs offer a great night out till early morning. There is reason enough to believe however that another techno temple could add to the various options Brussels' night owls already have: many artists in the techno scene reside in Brussels and sometimes it is difficult for them to show off their talent as the established techno clubs already have limited available slots to perform. Moreover, a frustrating aspect of the clubs are the waiting lines, which indicates that there are many enthusiasts of techno, though mostly only a limited amount of people are allowed inside at the same time. That's why I've decided to use location data and other considerations to offer the best feasible location in Brussels if a new techno club were to be built.\n\n\n#### Approach and Criteria\n\n_1st Analysis_\n\nIn Berlin, most of the techno clubs are located in the district \"Friedrichshain\". Assuming this neighborhood is favorable for nightlife, we will set this neighborhood against all municipalities in Brussels and analyze which municipality resembles this Berlin neighborhood the most. \n\n_2nd Analysis_\n\nIf multiple municipalities are similar to Friedrichshain a deeper analysis will be made to further distinct a favorable neighborhood in Brussels. \nWhen searching the perfect location for a new techno club, many other considerations such as safety, accessibility, type of neighborhood, etc. could be taken into account. In my project I've decided to further distinguish a favorable location based on following criteria.\n\nFirst of all, the nightclub in general needs to be easily accessible with public transport (train/metro). A lot of nightclubs are coping with noise disturbance and this is something that can be reduced but not dissappear. As such, a distinction will be made between neighborhoods and residential areas will be left out of the options. The techno scene has enthusiasts of all ages, but having universities and high schools nearby would certainly be a positive factor for the thrive of our business. Finally, the new location should be in a neighborhood where already a lot of bars are present, as many people tend to roll over from bars to nightclubs once they are a few beers in. \n\n\n\n#### Outcomes\n\nAfter these two analyses, we should be able to narrow it down to a few favorable neighborhoods. To summarize, the goal is to identify the best districts in Brussels to open a new techno club. A district which is similar to Friedrichshain *and* meets the most of the criteria laid out in the above section. The results will be translated in a simple form that will convey the data-driven analysis for the best locations."
        },
        {
            "metadata": {},
            "cell_type": "markdown",
            "source": " "
        },
        {
            "metadata": {},
            "cell_type": "markdown",
            "source": "## 2. Data description and approach"
        },
        {
            "metadata": {},
            "cell_type": "markdown",
            "source": "For the project objectives to be achieved, python geolocation libraries will used, along with the Foursquare API. Also, in order to create clusters of similar candidate locations, the K- Means machine learning clustering algorithm will be used.\n"
        },
        {
            "metadata": {},
            "cell_type": "markdown",
            "source": "\n#### The following data will be needed to make several analyses:\n\n* Data information on the specific Berlin \"Friedrichshain\" district\n* List of the different municipalities in Brussels (wikipedia)\n* List of metro stations and train stations in Brussels and their location\n\n\nUsing geolocation libraries, we will add the lattitude and longitude values of the respective districts to allow comparison using foursquare location data. This data will be used to explore the Brussels' neighborhoods on the above criteria and to compare the districts with Friedrichshain to find similar neighborhoods in Brussels. \n\n\n#### How the data will be used to solve the problem\n\n\nThe data will be used as follows:\n\n_Analysis 1_ \n\nI will make a comparison based on the type of venues that are the most common in the Friedrichshain district and municipalities of Brussels. I will then perform a clustering algorithm using K-means to determine which of the municipalities are most similar to the Friedrichshain district. \n\nThe goal of K-means clustering is to find groups in the data. K stands for the number of groups. Data points are clustered based on the similarity of the features. So the more similar the data features, the more likely they will be grouped. The municipalities that we ultimately look for are the ones in the same cluster with Friedrichshain. \n\n_Analysis 2_\n\nOnce we have the similar neighborhoods in Brussels, the foursquare and geopy data will be used to find the best one out of those neighborhoods. Location data on metro and train stations, amount of bars present and whether the neigbhorhood is residential or not will be used to differentiate the best neighborhood from the good ones. \n \n\n\nThe procesing of this data will allow to answer the key question:\n\n*Which neighborhood in Brussels, similar to Friedrichshain, has the best properties to open a new techno club?*"
        },
        {
            "metadata": {},
            "cell_type": "code",
            "source": "",
            "execution_count": null,
            "outputs": []
        }
    ],
    "metadata": {
        "kernelspec": {
            "name": "python3",
            "display_name": "Python 3.6",
            "language": "python"
        },
        "language_info": {
            "name": "python",
            "version": "3.6.9",
            "mimetype": "text/x-python",
            "codemirror_mode": {
                "name": "ipython",
                "version": 3
            },
            "pygments_lexer": "ipython3",
            "nbconvert_exporter": "python",
            "file_extension": ".py"
        }
    },
    "nbformat": 4,
    "nbformat_minor": 1
}